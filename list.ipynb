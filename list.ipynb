{
 "cells": [
  {
   "cell_type": "code",
   "execution_count": 27,
   "metadata": {},
   "outputs": [
    {
     "data": {
      "text/plain": [
       "[1, 2, 2, 3, 3, 4, 4, 5, 5, 5, 6, 7, 7]"
      ]
     },
     "execution_count": 27,
     "metadata": {},
     "output_type": "execute_result"
    }
   ],
   "source": [
    "z= [1,2,3,4,5,6,7,7,5,4,5,3,2]\n",
    "sorted(z) # this function is used to sort the elements"
   ]
  },
  {
   "cell_type": "code",
   "execution_count": 28,
   "metadata": {},
   "outputs": [
    {
     "data": {
      "text/plain": [
       "4.153846153846154"
      ]
     },
     "execution_count": 28,
     "metadata": {},
     "output_type": "execute_result"
    }
   ],
   "source": [
    "sum(z)/len(z) # to find the average \n"
   ]
  },
  {
   "cell_type": "code",
   "execution_count": 29,
   "metadata": {},
   "outputs": [
    {
     "data": {
      "text/plain": [
       "['A', 'n', 'u', 'k', 'u', 'l']"
      ]
     },
     "execution_count": 29,
     "metadata": {},
     "output_type": "execute_result"
    }
   ],
   "source": [
    "list(\"Anukul\") # this will convert into list"
   ]
  },
  {
   "cell_type": "code",
   "execution_count": 30,
   "metadata": {},
   "outputs": [],
   "source": [
    "x= [] # empty list\n"
   ]
  },
  {
   "cell_type": "markdown",
   "metadata": {},
   "source": [
    "# methods of list\n",
    "\n",
    "- adding items in list\n",
    "   - append()\n",
    "   - insert()\n",
    "   - extend()\n",
    "- removing items from list\n",
    "   - pop()\n",
    "   - remove()\n",
    "   - clear()\n",
    "- utility function\n",
    "   - sort()\n",
    "   - reverse()\n",
    "   - index()\n",
    "   - count()\n",
    "   - copy()"
   ]
  },
  {
   "cell_type": "code",
   "execution_count": 31,
   "metadata": {},
   "outputs": [
    {
     "name": "stdout",
     "output_type": "stream",
     "text": [
      "['the final empire', 'the well of ascension', 'the hero of age', 'stellheart', 'legion', 'calamity', 'firefight', 'the rhyth of war', 'warbeaker', 'legend: skin deep']\n"
     ]
    }
   ],
   "source": [
    "books=['the final empire','the well of ascension','the hero of age','stellheart','legion',\n",
    "'calamity','firefight','the rhyth of war','warbeaker',]\n",
    "\n",
    "books.append('legend: skin deep') # this function is used to add item in list\n",
    "print(books)"
   ]
  },
  {
   "cell_type": "code",
   "execution_count": 32,
   "metadata": {},
   "outputs": [],
   "source": [
    "books.append(['apple','banana','mango'])"
   ]
  },
  {
   "cell_type": "markdown",
   "metadata": {},
   "source": [
    "insert ()"
   ]
  },
  {
   "cell_type": "code",
   "execution_count": 33,
   "metadata": {},
   "outputs": [
    {
     "name": "stdout",
     "output_type": "stream",
     "text": [
      "['the final empire', 'the well of ascension', 'the hero of age', 'stellheart', 'legion', 'mitosis', 'calamity', 'firefight', 'the rhyth of war', 'warbeaker', 'legend: skin deep', ['apple', 'banana', 'mango']]\n"
     ]
    }
   ],
   "source": [
    "books.insert(5,'mitosis') # this means to add item at 5 index\n",
    "print(books)"
   ]
  },
  {
   "cell_type": "code",
   "execution_count": 34,
   "metadata": {},
   "outputs": [
    {
     "name": "stdout",
     "output_type": "stream",
     "text": [
      "['the final empire', 'the well of ascension', 'the hero of age', 'stellheart', 'legion', 'mitosis', 'calamity', 'firefight', 'the alloy of law', 'the rhyth of war', 'warbeaker', 'legend: skin deep', ['apple', 'banana', 'mango']]\n"
     ]
    }
   ],
   "source": [
    "books.insert(-4,'the alloy of law')\n",
    "print(books)"
   ]
  },
  {
   "cell_type": "markdown",
   "metadata": {},
   "source": [
    "extend()"
   ]
  },
  {
   "cell_type": "code",
   "execution_count": 35,
   "metadata": {},
   "outputs": [
    {
     "name": "stdout",
     "output_type": "stream",
     "text": [
      "['the final empire', 'the well of ascension', 'the hero of age', 'stellheart', 'legion', 'mitosis', 'calamity', 'firefight', 'the alloy of law', 'the rhyth of war', 'warbeaker', 'legend: skin deep', ['apple', 'banana', 'mango'], 'two states', 'the white tiger', 'the twilight saga']\n"
     ]
    }
   ],
   "source": [
    "worst_books=['two states','the white tiger','the twilight saga']\n",
    "books.extend(worst_books)# this is to add item in a single list Or we can say to merge two list we use extend function\n",
    "print(books)"
   ]
  },
  {
   "cell_type": "markdown",
   "metadata": {},
   "source": [
    "# removing items from list "
   ]
  },
  {
   "cell_type": "markdown",
   "metadata": {},
   "source": [
    "remove()"
   ]
  },
  {
   "cell_type": "code",
   "execution_count": 36,
   "metadata": {},
   "outputs": [
    {
     "name": "stdout",
     "output_type": "stream",
     "text": [
      "['the final empire', 'the well of ascension', 'the hero of age', 'stellheart', 'legion', 'mitosis', 'calamity', 'firefight', 'the alloy of law', 'the rhyth of war', 'warbeaker', 'legend: skin deep', ['apple', 'banana', 'mango'], 'two states', 'the twilight saga']\n"
     ]
    }
   ],
   "source": [
    "books.remove('the white tiger')# this function is used to remove item from list\n",
    "print(books)"
   ]
  },
  {
   "cell_type": "code",
   "execution_count": 37,
   "metadata": {},
   "outputs": [
    {
     "name": "stdout",
     "output_type": "stream",
     "text": [
      "firstborn is not in the list\n"
     ]
    }
   ],
   "source": [
    "remove_val = 'firstborn'\n",
    "if remove_val in books:\n",
    "    books.remove(remove_val)\n",
    "else: \n",
    "    print(remove_val + \" is not in the list\")"
   ]
  },
  {
   "cell_type": "markdown",
   "metadata": {},
   "source": [
    "pop()"
   ]
  },
  {
   "cell_type": "code",
   "execution_count": 38,
   "metadata": {},
   "outputs": [
    {
     "name": "stdout",
     "output_type": "stream",
     "text": [
      "['the final empire', 'the well of ascension', 'the hero of age', 'stellheart', 'legion', 'mitosis', 'calamity', 'firefight', 'the alloy of law', 'the rhyth of war', 'warbeaker', 'legend: skin deep', 'two states', 'the twilight saga']\n"
     ]
    }
   ],
   "source": [
    "# pop() is used to remove item index wise\n",
    "\n",
    "books.pop(-3) # it means the value at -3 index will be removed\n",
    "print(books)"
   ]
  },
  {
   "cell_type": "markdown",
   "metadata": {},
   "source": [
    "clear() will clear whole items present in a list"
   ]
  },
  {
   "cell_type": "code",
   "execution_count": 39,
   "metadata": {},
   "outputs": [
    {
     "name": "stdout",
     "output_type": "stream",
     "text": [
      "[]\n"
     ]
    }
   ],
   "source": [
    "books.clear()\n",
    "print(books)"
   ]
  },
  {
   "cell_type": "markdown",
   "metadata": {},
   "source": [
    "# Utility Function"
   ]
  },
  {
   "cell_type": "markdown",
   "metadata": {},
   "source": [
    "sort() : this method is used to sort the list data."
   ]
  },
  {
   "cell_type": "code",
   "execution_count": 2,
   "metadata": {},
   "outputs": [
    {
     "name": "stdout",
     "output_type": "stream",
     "text": [
      "['calamity', 'firefight', 'legion', 'stellheart', 'the final empire', 'the hero of age', 'the rhyth of war', 'the well of ascension', 'warbeaker']\n"
     ]
    }
   ],
   "source": [
    "books=['the final empire','the well of ascension','the hero of age','stellheart','legion',\n",
    "'calamity','firefight','the rhyth of war','warbeaker',]\n",
    "books.sort()\n",
    "print(books)"
   ]
  },
  {
   "cell_type": "markdown",
   "metadata": {},
   "source": [
    "reverse() : this method is used to reverse the list data."
   ]
  },
  {
   "cell_type": "code",
   "execution_count": 3,
   "metadata": {},
   "outputs": [
    {
     "name": "stdout",
     "output_type": "stream",
     "text": [
      "['warbeaker', 'the well of ascension', 'the rhyth of war', 'the hero of age', 'the final empire', 'stellheart', 'legion', 'firefight', 'calamity']\n"
     ]
    }
   ],
   "source": [
    "books.reverse()\n",
    "print(books)"
   ]
  },
  {
   "cell_type": "markdown",
   "metadata": {},
   "source": [
    "index() : "
   ]
  },
  {
   "cell_type": "code",
   "execution_count": 15,
   "metadata": {},
   "outputs": [
    {
     "data": {
      "text/plain": [
       "2"
      ]
     },
     "execution_count": 15,
     "metadata": {},
     "output_type": "execute_result"
    }
   ],
   "source": [
    "x= [1,2,45,56,5,34,45,67,89,45,23,23]\n",
    "x.index(45) # this function is used to find specific numbers index"
   ]
  },
  {
   "cell_type": "markdown",
   "metadata": {},
   "source": [
    "Reverse Sorting : it is used tp print the data in descending order"
   ]
  },
  {
   "cell_type": "code",
   "execution_count": 10,
   "metadata": {},
   "outputs": [
    {
     "name": "stdout",
     "output_type": "stream",
     "text": [
      "['Mango', 'Guava', 'Grapes', 'Banana', 'Apple']\n"
     ]
    }
   ],
   "source": [
    "fruits= ['Mango','Banana','Grapes','Apple','Guava']\n",
    "fruits.sort(reverse=True) # this is to print data in descending order...\n",
    "print(fruits)"
   ]
  },
  {
   "cell_type": "markdown",
   "metadata": {},
   "source": [
    "Count(): this function is used to count how many times a specific data comes in a list. "
   ]
  },
  {
   "cell_type": "code",
   "execution_count": 12,
   "metadata": {},
   "outputs": [
    {
     "data": {
      "text/plain": [
       "4"
      ]
     },
     "execution_count": 12,
     "metadata": {},
     "output_type": "execute_result"
    }
   ],
   "source": [
    "x= [1,2,3,4,5,1,23,23,455,56,3,21,1,454,224,1,656,4,5,6,7,42,4,6,78,9]\n",
    "x.count(1)"
   ]
  },
  {
   "cell_type": "markdown",
   "metadata": {},
   "source": [
    "copy(): this is to copy the data of 1 list to another list."
   ]
  },
  {
   "cell_type": "code",
   "execution_count": 17,
   "metadata": {},
   "outputs": [
    {
     "name": "stdout",
     "output_type": "stream",
     "text": [
      "[1, 2, 3, 4, 5, 6, 7, 8, 9, 0]\n"
     ]
    }
   ],
   "source": [
    "x= [1,2,3,4,5,6,7,8,9,0]\n",
    "y=x.copy() # it is copying the value of x\n",
    "print(y)"
   ]
  }
 ],
 "metadata": {
  "kernelspec": {
   "display_name": "Python 3.10.4 64-bit",
   "language": "python",
   "name": "python3"
  },
  "language_info": {
   "codemirror_mode": {
    "name": "ipython",
    "version": 3
   },
   "file_extension": ".py",
   "mimetype": "text/x-python",
   "name": "python",
   "nbconvert_exporter": "python",
   "pygments_lexer": "ipython3",
   "version": "3.10.4"
  },
  "orig_nbformat": 4,
  "vscode": {
   "interpreter": {
    "hash": "1016f5755579665f86c3ed5b4982a3342a4712a1c33c8f914fe8421ee05587a1"
   }
  }
 },
 "nbformat": 4,
 "nbformat_minor": 2
}
