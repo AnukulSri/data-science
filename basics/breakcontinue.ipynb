{
 "cells": [
  {
   "cell_type": "markdown",
   "metadata": {},
   "source": [
    "# break statement"
   ]
  },
  {
   "cell_type": "code",
   "execution_count": 2,
   "metadata": {},
   "outputs": [
    {
     "name": "stdout",
     "output_type": "stream",
     "text": [
      "12\n",
      "11\n"
     ]
    }
   ],
   "source": [
    "n = int(input('Enter a number'))\n",
    "while n>0 :\n",
    "    if n%5==0 :\n",
    "        break\n",
    "    print (n)\n",
    "    n = n-1"
   ]
  },
  {
   "cell_type": "markdown",
   "metadata": {},
   "source": [
    "# continue statement"
   ]
  },
  {
   "cell_type": "code",
   "execution_count": 10,
   "metadata": {},
   "outputs": [
    {
     "name": "stdout",
     "output_type": "stream",
     "text": [
      "10\n",
      "9\n",
      "8\n",
      "7\n",
      "6\n"
     ]
    },
    {
     "ename": "KeyboardInterrupt",
     "evalue": "",
     "output_type": "error",
     "traceback": [
      "\u001b[1;31m---------------------------------------------------------------------------\u001b[0m",
      "\u001b[1;31mKeyboardInterrupt\u001b[0m                         Traceback (most recent call last)",
      "\u001b[1;32mc:\\Users\\Priyanshu\\Desktop\\Python Data Science\\breakcontinue.ipynb Cell 4'\u001b[0m in \u001b[0;36m<cell line: 2>\u001b[1;34m()\u001b[0m\n\u001b[0;32m      <a href='vscode-notebook-cell:/c%3A/Users/Priyanshu/Desktop/Python%20Data%20Science/breakcontinue.ipynb#ch0000003?line=1'>2</a>\u001b[0m \u001b[39mwhile\u001b[39;00m a\u001b[39m>\u001b[39m\u001b[39m=\u001b[39m\u001b[39m1\u001b[39m :\n\u001b[0;32m      <a href='vscode-notebook-cell:/c%3A/Users/Priyanshu/Desktop/Python%20Data%20Science/breakcontinue.ipynb#ch0000003?line=2'>3</a>\u001b[0m  \u001b[39mif\u001b[39;00m a\u001b[39m==\u001b[39m\u001b[39m5\u001b[39m:\n\u001b[1;32m----> <a href='vscode-notebook-cell:/c%3A/Users/Priyanshu/Desktop/Python%20Data%20Science/breakcontinue.ipynb#ch0000003?line=3'>4</a>\u001b[0m       \u001b[39mcontinue\u001b[39;00m\n\u001b[0;32m      <a href='vscode-notebook-cell:/c%3A/Users/Priyanshu/Desktop/Python%20Data%20Science/breakcontinue.ipynb#ch0000003?line=4'>5</a>\u001b[0m  \u001b[39mprint\u001b[39m(a)\n\u001b[0;32m      <a href='vscode-notebook-cell:/c%3A/Users/Priyanshu/Desktop/Python%20Data%20Science/breakcontinue.ipynb#ch0000003?line=5'>6</a>\u001b[0m  a\u001b[39m=\u001b[39ma\u001b[39m-\u001b[39m\u001b[39m1\u001b[39m\n",
      "\u001b[1;31mKeyboardInterrupt\u001b[0m: "
     ]
    }
   ],
   "source": [
    "a = 10\n",
    "while a>=1 :\n",
    " if a==5:\n",
    "      continue\n",
    " print(a)\n",
    " a=a-1"
   ]
  },
  {
   "cell_type": "code",
   "execution_count": 7,
   "metadata": {},
   "outputs": [
    {
     "name": "stdout",
     "output_type": "stream",
     "text": [
      "1\n",
      "2\n",
      "3\n",
      "4\n",
      "5\n",
      "7\n",
      "6\n",
      "8\n",
      "9\n"
     ]
    }
   ],
   "source": [
    "x= [1,0,2,0,3,4,5,0,7,0,6,8,0,9]\n",
    "for i in x:\n",
    "    if i==0:\n",
    "        continue\n",
    "    print(i)"
   ]
  }
 ],
 "metadata": {
  "interpreter": {
   "hash": "1016f5755579665f86c3ed5b4982a3342a4712a1c33c8f914fe8421ee05587a1"
  },
  "kernelspec": {
   "display_name": "Python 3.10.4 64-bit",
   "language": "python",
   "name": "python3"
  },
  "language_info": {
   "codemirror_mode": {
    "name": "ipython",
    "version": 3
   },
   "file_extension": ".py",
   "mimetype": "text/x-python",
   "name": "python",
   "nbconvert_exporter": "python",
   "pygments_lexer": "ipython3",
   "version": "3.10.4"
  },
  "orig_nbformat": 4
 },
 "nbformat": 4,
 "nbformat_minor": 2
}
