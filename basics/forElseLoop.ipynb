{
 "cells": [
  {
   "cell_type": "markdown",
   "metadata": {},
   "source": [
    "# For else loop"
   ]
  },
  {
   "cell_type": "code",
   "execution_count": 1,
   "metadata": {},
   "outputs": [
    {
     "name": "stdout",
     "output_type": "stream",
     "text": [
      "We have  Apple\n",
      "We have  banana\n",
      "We have  Mango\n",
      "thats all\n"
     ]
    }
   ],
   "source": [
    "fruits =['Apple','banana','Mango']\n",
    "for i in fruits:\n",
    " print('We have ',i)\n",
    "else :\n",
    "    print('thats all')"
   ]
  },
  {
   "cell_type": "code",
   "execution_count": 2,
   "metadata": {},
   "outputs": [
    {
     "name": "stdout",
     "output_type": "stream",
     "text": [
      "looking at potato\n",
      "looking at tomato\n",
      "looking at ginger\n",
      "looking at lemon\n",
      "lemon found\n"
     ]
    }
   ],
   "source": [
    "veg = ['potato', 'tomato','ginger','lemon','garlic']\n",
    "for i in veg:\n",
    " print(f'looking at {i}')\n",
    " if i =='lemon':\n",
    "    print('lemon found')\n",
    "    break\n",
    "else : \n",
    "    print('not found')"
   ]
  }
 ],
 "metadata": {
  "kernelspec": {
   "display_name": "Python 3.10.4 64-bit",
   "language": "python",
   "name": "python3"
  },
  "language_info": {
   "codemirror_mode": {
    "name": "ipython",
    "version": 3
   },
   "file_extension": ".py",
   "mimetype": "text/x-python",
   "name": "python",
   "nbconvert_exporter": "python",
   "pygments_lexer": "ipython3",
   "version": "3.10.4"
  },
  "orig_nbformat": 4,
  "vscode": {
   "interpreter": {
    "hash": "1016f5755579665f86c3ed5b4982a3342a4712a1c33c8f914fe8421ee05587a1"
   }
  }
 },
 "nbformat": 4,
 "nbformat_minor": 2
}
