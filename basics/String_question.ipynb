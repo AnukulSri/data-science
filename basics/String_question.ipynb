{
 "cells": [
  {
   "cell_type": "markdown",
   "metadata": {},
   "source": [
    "WAP to remove all the vowels from a string provided by user"
   ]
  },
  {
   "cell_type": "code",
   "execution_count": 2,
   "metadata": {},
   "outputs": [
    {
     "name": "stdout",
     "output_type": "stream",
     "text": [
      "wht r y dng\n"
     ]
    }
   ],
   "source": [
    "v= 'a,e,i,o,u,A,E,I,O,U'\n",
    "str= input(\"Enter a string\")\n",
    "for i in v:\n",
    "    str= str.replace(i,'')\n",
    "print(str)"
   ]
  },
  {
   "cell_type": "markdown",
   "metadata": {},
   "source": [
    "WAP to count all the vowels from a string provided by user"
   ]
  },
  {
   "cell_type": "code",
   "execution_count": 9,
   "metadata": {},
   "outputs": [
    {
     "name": "stdout",
     "output_type": "stream",
     "text": [
      "5\n"
     ]
    }
   ],
   "source": [
    "v= 'a,e,i,o,u,A,E,I,O,U'\n",
    "s=0\n",
    "str= input(\"Enter a string\")\n",
    "for i in str:\n",
    "   if i in v:\n",
    "    s = s+1\n",
    "  \n",
    "print(s)"
   ]
  },
  {
   "cell_type": "markdown",
   "metadata": {},
   "source": [
    "Wap to to count the word occurence in a string that is provided by user"
   ]
  },
  {
   "cell_type": "code",
   "execution_count": 12,
   "metadata": {},
   "outputs": [
    {
     "name": "stdout",
     "output_type": "stream",
     "text": [
      "do - 2\n",
      "you - 1\n",
      "to - 1\n",
      "will - 1\n",
      "what - 2\n",
      "are - 2\n",
      "and - 1\n",
      "doing - 1\n",
      "going - 1\n"
     ]
    }
   ],
   "source": [
    "str = input (\"Enter a string:\")\n",
    "word = set(str.split())# here set is to used to not contains duplicate word\n",
    "for i in word:\n",
    "    c= str.count(i)\n",
    "    print(i,'-',c)"
   ]
  },
  {
   "cell_type": "markdown",
   "metadata": {},
   "source": [
    "Wap to find the all the indexes of a word in a string"
   ]
  },
  {
   "cell_type": "code",
   "execution_count": 20,
   "metadata": {},
   "outputs": [
    {
     "data": {
      "text/plain": [
       "'is'"
      ]
     },
     "execution_count": 20,
     "metadata": {},
     "output_type": "execute_result"
    }
   ],
   "source": [
    "str = input (\"Enter a string:\")\n",
    "word = str.split()\n",
    "word[1]\n",
    "    "
   ]
  },
  {
   "cell_type": "markdown",
   "metadata": {},
   "source": [
    "Wap to search the word in a string"
   ]
  },
  {
   "cell_type": "code",
   "execution_count": 14,
   "metadata": {},
   "outputs": [
    {
     "name": "stdout",
     "output_type": "stream",
     "text": [
      "high found at postion 10\n"
     ]
    }
   ],
   "source": [
    "q=input(\"Enter a word to search\")\n",
    "msg = \"python is high level language and easy to learn\"\n",
    "s= 0\n",
    "while True:\n",
    "    id= msg.find(q,s)\n",
    "    if id ==-1:\n",
    "        break\n",
    "    print(f'{q} found at postion {id}')\n",
    "    s=id+1"
   ]
  },
  {
   "cell_type": "markdown",
   "metadata": {},
   "source": [
    "Wap to replace the vowel with a=1,e=2,i=3,o=4,u=5"
   ]
  },
  {
   "cell_type": "code",
   "execution_count": 15,
   "metadata": {},
   "outputs": [
    {
     "name": "stdout",
     "output_type": "stream",
     "text": [
      "pyth1n 1s h1gh l1v1l l1ng11g1 1nd 11sy t1 l11rn\n"
     ]
    }
   ],
   "source": [
    "msg = \"python is high level language and easy to learn\"\n",
    "for i in 'aeiouAEIOU':\n",
    "    if i == 'a'or 'A':\n",
    "        msg = msg.replace(i,'1')\n",
    "    if i == 'i'or 'E':\n",
    "        msg = msg.replace(i,'2')\n",
    "    if i == 'e'or 'I':\n",
    "        msg = msg.replace(i,'3')\n",
    "    if i == 'o'or 'O':\n",
    "        msg = msg.replace(i,'4')\n",
    "    if i == 'U'or 'u':\n",
    "        msg = msg.replace(i,'5')\n",
    "print(msg)"
   ]
  }
 ],
 "metadata": {
  "kernelspec": {
   "display_name": "Python 3.10.4 64-bit",
   "language": "python",
   "name": "python3"
  },
  "language_info": {
   "codemirror_mode": {
    "name": "ipython",
    "version": 3
   },
   "file_extension": ".py",
   "mimetype": "text/x-python",
   "name": "python",
   "nbconvert_exporter": "python",
   "pygments_lexer": "ipython3",
   "version": "3.10.4"
  },
  "orig_nbformat": 4,
  "vscode": {
   "interpreter": {
    "hash": "1016f5755579665f86c3ed5b4982a3342a4712a1c33c8f914fe8421ee05587a1"
   }
  }
 },
 "nbformat": 4,
 "nbformat_minor": 2
}
