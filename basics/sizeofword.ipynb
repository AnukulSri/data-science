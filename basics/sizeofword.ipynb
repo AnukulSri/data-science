{
 "cells": [
  {
   "cell_type": "markdown",
   "metadata": {},
   "source": [
    "Wap to print the size of word in a list"
   ]
  },
  {
   "cell_type": "code",
   "execution_count": 5,
   "metadata": {},
   "outputs": [
    {
     "name": "stdout",
     "output_type": "stream",
     "text": [
      "New York contains 8 characters\n",
      "London contains 6 characters\n",
      "Rome contains 4 characters\n",
      "Germany contains 7 characters\n",
      "Korea contains 5 characters\n",
      "Paris contains 5 characters\n"
     ]
    }
   ],
   "source": [
    "place = ['New York','London','Rome','Germany','Korea','Paris']\n",
    "for i in place:\n",
    "    print(f'{i} contains {len(i)} characters') # len function is used to find the length of a string"
   ]
  }
 ],
 "metadata": {
  "interpreter": {
   "hash": "1016f5755579665f86c3ed5b4982a3342a4712a1c33c8f914fe8421ee05587a1"
  },
  "kernelspec": {
   "display_name": "Python 3.10.4 64-bit",
   "language": "python",
   "name": "python3"
  },
  "language_info": {
   "codemirror_mode": {
    "name": "ipython",
    "version": 3
   },
   "file_extension": ".py",
   "mimetype": "text/x-python",
   "name": "python",
   "nbconvert_exporter": "python",
   "pygments_lexer": "ipython3",
   "version": "3.10.4"
  },
  "orig_nbformat": 4
 },
 "nbformat": 4,
 "nbformat_minor": 2
}
