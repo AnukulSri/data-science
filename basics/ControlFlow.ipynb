{
 "cells": [
  {
   "cell_type": "markdown",
   "metadata": {},
   "source": [
    "# Control Flow"
   ]
  },
  {
   "cell_type": "code",
   "execution_count": 2,
   "metadata": {},
   "outputs": [
    {
     "name": "stdout",
     "output_type": "stream",
     "text": [
      "Did you saw an apple seller\n",
      "don't buy an apple\n"
     ]
    }
   ],
   "source": [
    "print(\"Did you saw an apple seller\")\n",
    "q= input('do you like apples?')\n",
    "\n",
    "if q=='yes':\n",
    "    print('Buy an apple')\n",
    "if q =='no':\n",
    "    print('don\\'t buy an apple')    "
   ]
  },
  {
   "cell_type": "markdown",
   "metadata": {},
   "source": [
    "# if else Statement"
   ]
  },
  {
   "cell_type": "code",
   "execution_count": 4,
   "metadata": {},
   "outputs": [
    {
     "name": "stdout",
     "output_type": "stream",
     "text": [
      "It's to hot\n"
     ]
    }
   ],
   "source": [
    "t = float(input(\"What is temperature\"))\n",
    "if t >= 40 :\n",
    "    print (\"It\\'s to hot\")\n",
    "else : \n",
    "    print(\"It\\'s normal\")"
   ]
  },
  {
   "cell_type": "markdown",
   "metadata": {},
   "source": [
    "# elif statement"
   ]
  },
  {
   "cell_type": "markdown",
   "metadata": {},
   "source": [
    "elif : it is used when we have more than two conditions. like to find largest number from given three numbers\n",
    "\n",
    "Syntax : if expression :\n",
    "            statement\n",
    "        elif : \n",
    "            statement\n",
    "        elif : \n",
    "            statement\n",
    "        else : \n",
    "            statement"
   ]
  },
  {
   "cell_type": "markdown",
   "metadata": {},
   "source": [
    "# one liner if-else - "
   ]
  },
  {
   "cell_type": "code",
   "execution_count": 6,
   "metadata": {},
   "outputs": [
    {
     "name": "stdout",
     "output_type": "stream",
     "text": [
      "6%\n"
     ]
    }
   ],
   "source": [
    "salary = 19000\n",
    "hra = '5%' if salary > 20000 else '6%'\n",
    "print (hra)"
   ]
  }
 ],
 "metadata": {
  "interpreter": {
   "hash": "1016f5755579665f86c3ed5b4982a3342a4712a1c33c8f914fe8421ee05587a1"
  },
  "kernelspec": {
   "display_name": "Python 3.10.4 64-bit",
   "language": "python",
   "name": "python3"
  },
  "language_info": {
   "codemirror_mode": {
    "name": "ipython",
    "version": 3
   },
   "file_extension": ".py",
   "mimetype": "text/x-python",
   "name": "python",
   "nbconvert_exporter": "python",
   "pygments_lexer": "ipython3",
   "version": "3.10.4"
  },
  "orig_nbformat": 4
 },
 "nbformat": 4,
 "nbformat_minor": 2
}
