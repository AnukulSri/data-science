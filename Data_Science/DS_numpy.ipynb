{
 "cells": [
  {
   "cell_type": "code",
   "execution_count": 1,
   "metadata": {},
   "outputs": [
    {
     "name": "stdout",
     "output_type": "stream",
     "text": [
      "[1 2 3 4]\n"
     ]
    }
   ],
   "source": [
    "import numpy as np # importing numpy library \n",
    "a= np.array([1,2,3,4]) # creating the numpy array\n",
    "print(a) # printing the array"
   ]
  },
  {
   "cell_type": "markdown",
   "metadata": {},
   "source": [
    "# pre defined function in numpy"
   ]
  },
  {
   "cell_type": "code",
   "execution_count": null,
   "metadata": {},
   "outputs": [
    {
     "name": "stdout",
     "output_type": "stream",
     "text": [
      "(6,)\n",
      "3.5\n",
      "21\n",
      "1.707825127659933\n"
     ]
    }
   ],
   "source": [
    "b= np.array([1,2,3,4,5,6]) # initializing the numpy array\n",
    "print(b.mean()) # it will print the mean of the array elements\n",
    "print(b.sum()) # it will print the sum of the elements in an array\n",
    "print(b.std()) # it will print standard deviation"
   ]
  },
  {
   "cell_type": "code",
   "execution_count": null,
   "metadata": {},
   "outputs": [
    {
     "name": "stdout",
     "output_type": "stream",
     "text": [
      "[[1 2 3]\n",
      " [4 5 6]\n",
      " [7 8 9]]\n",
      "(3, 3)\n"
     ]
    }
   ],
   "source": [
    "c= [[1,2,3],[4,5,6],[7,8,9]] # 3*3 matrix\n",
    "c= np.array(c) # convering list to numpy array\n",
    "print(c)\n",
    "print(c.shape) # it will print the matrix size of whichtype of matrix is it"
   ]
  },
  {
   "cell_type": "code",
   "execution_count": null,
   "metadata": {},
   "outputs": [
    {
     "name": "stdout",
     "output_type": "stream",
     "text": [
      "[[[1 2 3]\n",
      "  [4 5 6]\n",
      "  [7 8 9]]\n",
      "\n",
      " [[1 0 0]\n",
      "  [0 1 0]\n",
      "  [0 0 1]]]\n",
      "(2, 3, 3)\n"
     ]
    }
   ],
   "source": [
    "d= [[[1,2,3],[4,5,6],[7,8,9]],[[1,0,0],[0,1,0],[0,0,1]]] # 2D array\n",
    "d= np.array(d)\n",
    "print(d)\n",
    "print(d.shape)"
   ]
  },
  {
   "cell_type": "markdown",
   "metadata": {},
   "source": [
    "# Generate array"
   ]
  },
  {
   "cell_type": "code",
   "execution_count": null,
   "metadata": {},
   "outputs": [
    {
     "name": "stdout",
     "output_type": "stream",
     "text": [
      "[[0. 0. 0.]\n",
      " [0. 0. 0.]\n",
      " [0. 0. 0.]]\n"
     ]
    }
   ],
   "source": [
    "z= np.zeros((3,3)) # it will generate the array of 3*3 matrix of zero\n",
    "print(z)\n",
    "# In output the dot(.) shows that the values are of float type"
   ]
  },
  {
   "cell_type": "code",
   "execution_count": 2,
   "metadata": {},
   "outputs": [
    {
     "name": "stdout",
     "output_type": "stream",
     "text": [
      "[[[1. 1. 1.]\n",
      "  [1. 1. 1.]\n",
      "  [1. 1. 1.]]\n",
      "\n",
      " [[1. 1. 1.]\n",
      "  [1. 1. 1.]\n",
      "  [1. 1. 1.]]]\n"
     ]
    }
   ],
   "source": [
    "z= np.ones((2,3,3))# it will generate the array of 3*3 matrix of ones in 2d array \n",
    "print(z)\n",
    "# In output dot(.) means that the values are of float type"
   ]
  },
  {
   "cell_type": "code",
   "execution_count": null,
   "metadata": {},
   "outputs": [
    {
     "name": "stdout",
     "output_type": "stream",
     "text": [
      "[[0 0 0]\n",
      " [0 0 0]\n",
      " [0 0 0]]\n"
     ]
    }
   ],
   "source": [
    "z= np.zeros((3,3),dtype=int) # by using dtype we can change the data type \n",
    "print(z)"
   ]
  },
  {
   "cell_type": "markdown",
   "metadata": {},
   "source": [
    "# Create the sequence "
   ]
  },
  {
   "cell_type": "code",
   "execution_count": null,
   "metadata": {},
   "outputs": [
    {
     "name": "stdout",
     "output_type": "stream",
     "text": [
      "[-10  -9  -8  -7  -6  -5  -4  -3  -2  -1   0   1   2   3   4   5   6   7\n",
      "   8   9]\n"
     ]
    }
   ],
   "source": [
    "t= np.arange(-10,10) # it will print the data from -10 to +10\n",
    "print(t)"
   ]
  },
  {
   "cell_type": "code",
   "execution_count": null,
   "metadata": {},
   "outputs": [
    {
     "name": "stdout",
     "output_type": "stream",
     "text": [
      "[-10.    -9.25  -8.5   -7.75  -7.    -6.25  -5.5   -4.75  -4.    -3.25\n",
      "  -2.5   -1.75  -1.    -0.25   0.5    1.25   2.     2.75   3.5    4.25\n",
      "   5.     5.75   6.5    7.25   8.     8.75   9.5 ]\n",
      "(27,)\n"
     ]
    }
   ],
   "source": [
    "r= np.arange(-10,10,.75) # here it means--- print the data from -10 to +10 with the gap of .75\n",
    "print(r)\n",
    "print(r.shape)# here shape will print the total no. of items in an array"
   ]
  },
  {
   "cell_type": "markdown",
   "metadata": {},
   "source": [
    "# Another function to create sequence"
   ]
  },
  {
   "cell_type": "code",
   "execution_count": 6,
   "metadata": {},
   "outputs": [
    {
     "name": "stdout",
     "output_type": "stream",
     "text": [
      "[10 10 11 12 12 13 14 14 15 16 16 17 18 18 19 20 21 21 22 23 23 24 25 25\n",
      " 26 27 27 28 29 30]\n",
      "(30,)\n"
     ]
    }
   ],
   "source": [
    "# linspace()\n",
    "\n",
    "q= np.linspace(10,30,30,dtype=int) # here it will print the no. from 10 to 30 and no. should be 30 in array. \n",
    "                        #here we didn't need to specify the gap it will automatically adjust the gap\n",
    "print(q)\n",
    "print(q.shape)"
   ]
  },
  {
   "cell_type": "code",
   "execution_count": 8,
   "metadata": {},
   "outputs": [
    {
     "name": "stdout",
     "output_type": "stream",
     "text": [
      "[1.00000000e-10 4.89390092e-10 2.39502662e-09 1.17210230e-08\n",
      " 5.73615251e-08 2.80721620e-07 1.37382380e-06 6.72335754e-06\n",
      " 3.29034456e-05 1.61026203e-04 7.88046282e-04 3.85662042e-03\n",
      " 1.88739182e-02 9.23670857e-02 4.52035366e-01 2.21221629e+00\n",
      " 1.08263673e+01 5.29831691e+01 2.59294380e+02 1.26896100e+03\n",
      " 6.21016942e+03 3.03919538e+04 1.48735211e+05 7.27895384e+05\n",
      " 3.56224789e+06 1.74332882e+07 8.53167852e+07 4.17531894e+08\n",
      " 2.04335972e+09 1.00000000e+10]\n",
      "(30,)\n"
     ]
    }
   ],
   "source": [
    "# logsapce()\n",
    "\n",
    "p = np.logspace(-10,10,30)# here it will print the no. from -10 to +10 and no. should be 30 in array. \n",
    "                          #here we didn't need to apecify the gap it will automatically adjust the gap\n",
    "print(p)\n",
    "print(p.shape)"
   ]
  },
  {
   "cell_type": "markdown",
   "metadata": {},
   "source": [
    "# Random Data"
   ]
  },
  {
   "cell_type": "code",
   "execution_count": 11,
   "metadata": {},
   "outputs": [
    {
     "name": "stdout",
     "output_type": "stream",
     "text": [
      "[[[0.23105966 0.06520231 0.60342832]\n",
      "  [0.71943965 0.13805205 0.30164159]\n",
      "  [0.12959566 0.73358421 0.49861286]]\n",
      "\n",
      " [[0.64018578 0.33763127 0.71093765]\n",
      "  [0.03396518 0.10402199 0.67721896]\n",
      "  [0.55659919 0.84309841 0.48236522]]\n",
      "\n",
      " [[0.4163171  0.22489321 0.53018622]\n",
      "  [0.99323158 0.59247793 0.04310906]\n",
      "  [0.97060756 0.66068694 0.41445577]]]\n"
     ]
    }
   ],
   "source": [
    "h = np.random.random((3,3,3)) # it will print the random value in 3*3 matrix in 3d array\n",
    "print(h)"
   ]
  },
  {
   "cell_type": "code",
   "execution_count": 9,
   "metadata": {},
   "outputs": [
    {
     "name": "stdout",
     "output_type": "stream",
     "text": [
      "[[ 3 19 42 30 49]\n",
      " [34 34 31 14  7]\n",
      " [ 6 40 45 41 41]\n",
      " [47  3 32 49 13]\n",
      " [38  9  8 37 13]]\n"
     ]
    }
   ],
   "source": [
    "h2 = np.random.randint(0,50,(5,5))# it will print the random value b/w 0 to 50 in 5 rows and 5 col  \n",
    "print(h2)"
   ]
  },
  {
   "cell_type": "markdown",
   "metadata": {},
   "source": [
    "Mathematical Function:"
   ]
  },
  {
   "cell_type": "code",
   "execution_count": 16,
   "metadata": {},
   "outputs": [
    {
     "name": "stdout",
     "output_type": "stream",
     "text": [
      "20\n",
      "6\n",
      "91\n",
      "1.8571428571428572\n"
     ]
    }
   ],
   "source": [
    "import numpy as np\n",
    "a= np.random.randint(0,20)\n",
    "b= np.random.randint(0,20)\n",
    "\n",
    "print(a+b)\n",
    "print(a-b)\n",
    "print(a*b)\n",
    "print(a/b)"
   ]
  },
  {
   "cell_type": "code",
   "execution_count": null,
   "metadata": {},
   "outputs": [
    {
     "ename": "AxisError",
     "evalue": "axisa: axis -1 is out of bounds for array of dimension 0",
     "output_type": "error",
     "traceback": [
      "\u001b[1;31m---------------------------------------------------------------------------\u001b[0m\n",
      "\u001b[1;31mAxisError\u001b[0m                                 Traceback (most recent call last)\n",
      "\u001b[1;32mc:\\Users\\Priyanshu\\Desktop\\Python Data Science\\Data_Science\\numpy_chapter.ipynb Cell 21\u001b[0m in \u001b[0;36m<cell line: 1>\u001b[1;34m()\u001b[0m\n",
      "\u001b[1;32m----> <a href='vscode-notebook-cell:/c%3A/Users/Priyanshu/Desktop/Python%20Data%20Science/Data_Science/numpy_chapter.ipynb#ch0000021?line=0'>1</a>\u001b[0m np\u001b[39m.\u001b[39;49mcross(a,b)\n",
      "\n",
      "File \u001b[1;32m<__array_function__ internals>:180\u001b[0m, in \u001b[0;36mcross\u001b[1;34m(*args, **kwargs)\u001b[0m\n",
      "\n",
      "File \u001b[1;32mc:\\Users\\Priyanshu\\Desktop\\python\\lib\\site-packages\\numpy\\core\\numeric.py:1604\u001b[0m, in \u001b[0;36mcross\u001b[1;34m(a, b, axisa, axisb, axisc, axis)\u001b[0m\n",
      "\u001b[0;32m   1602\u001b[0m b \u001b[39m=\u001b[39m asarray(b)\n",
      "\u001b[0;32m   1603\u001b[0m \u001b[39m# Check axisa and axisb are within bounds\u001b[39;00m\n",
      "\u001b[1;32m-> 1604\u001b[0m axisa \u001b[39m=\u001b[39m normalize_axis_index(axisa, a\u001b[39m.\u001b[39;49mndim, msg_prefix\u001b[39m=\u001b[39;49m\u001b[39m'\u001b[39;49m\u001b[39maxisa\u001b[39;49m\u001b[39m'\u001b[39;49m)\n",
      "\u001b[0;32m   1605\u001b[0m axisb \u001b[39m=\u001b[39m normalize_axis_index(axisb, b\u001b[39m.\u001b[39mndim, msg_prefix\u001b[39m=\u001b[39m\u001b[39m'\u001b[39m\u001b[39maxisb\u001b[39m\u001b[39m'\u001b[39m)\n",
      "\u001b[0;32m   1607\u001b[0m \u001b[39m# Move working axis to the end of the shape\u001b[39;00m\n",
      "\n",
      "\u001b[1;31mAxisError\u001b[0m: axisa: axis -1 is out of bounds for array of dimension 0"
     ]
    }
   ],
   "source": [
    "np.cross(a,b)"
   ]
  },
  {
   "cell_type": "code",
   "execution_count": null,
   "metadata": {},
   "outputs": [
    {
     "data": {
      "text/plain": [
       "array([[ 48,  19,  21],\n",
       "       [ 97,  36,  52],\n",
       "       [103,  39,  57]])"
      ]
     },
     "metadata": {},
     "output_type": "display_data"
    }
   ],
   "source": [
    "a = np.random.randint(1,10,(3,3))\n",
    "b = np.random.randint(1,10,(3,3))\n",
    "np.dot(a,b) # it will print dot product of a,b "
   ]
  },
  {
   "cell_type": "code",
   "execution_count": null,
   "metadata": {},
   "outputs": [
    {
     "data": {
      "text/plain": [
       "array([[  2,  -8,   4],\n",
       "       [ -6,  70, -43],\n",
       "       [ -2,  49, -27]])"
      ]
     },
     "metadata": {},
     "output_type": "display_data"
    }
   ],
   "source": [
    "np.cross(a,b) # it will print cross product of a,b "
   ]
  },
  {
   "cell_type": "code",
   "execution_count": null,
   "metadata": {},
   "outputs": [
    {
     "data": {
      "text/plain": [
       "array([    6,    12,    12,    12,    60,   480,   480,  2400, 21600])"
      ]
     },
     "metadata": {},
     "output_type": "display_data"
    }
   ],
   "source": [
    "np.cumprod(a)"
   ]
  },
  {
   "cell_type": "code",
   "execution_count": null,
   "metadata": {},
   "outputs": [
    {
     "data": {
      "text/plain": [
       "4.222222222222222"
      ]
     },
     "metadata": {},
     "output_type": "display_data"
    }
   ],
   "source": [
    "a.mean() # mean of all elements"
   ]
  },
  {
   "cell_type": "code",
   "execution_count": null,
   "metadata": {},
   "outputs": [
    {
     "data": {
      "text/plain": [
       "array([2.66666667, 4.        , 6.        ])"
      ]
     },
     "metadata": {},
     "output_type": "display_data"
    }
   ],
   "source": [
    "a.mean(axis=0) # mean along the columns"
   ]
  },
  {
   "cell_type": "code",
   "execution_count": null,
   "metadata": {},
   "outputs": [
    {
     "data": {
      "text/plain": [
       "array([3.        , 4.66666667, 5.        ])"
      ]
     },
     "metadata": {},
     "output_type": "display_data"
    }
   ],
   "source": [
    "a.mean(axis=1) # mean along the rows"
   ]
  },
  {
   "cell_type": "code",
   "execution_count": null,
   "metadata": {},
   "outputs": [
    {
     "data": {
      "text/plain": [
       "5.0"
      ]
     },
     "metadata": {},
     "output_type": "display_data"
    }
   ],
   "source": [
    "np.median(a)"
   ]
  },
  {
   "cell_type": "code",
   "execution_count": null,
   "metadata": {},
   "outputs": [
    {
     "name": "stdout",
     "output_type": "stream",
     "text": [
      "[1. 5. 8.]\n",
      "[2. 5. 5.]\n"
     ]
    }
   ],
   "source": [
    "print(np.median(a, axis=0)) # median along the columns\n",
    "print(np.median(a, axis=1)) # median along the rows"
   ]
  },
  {
   "cell_type": "code",
   "execution_count": null,
   "metadata": {},
   "outputs": [
    {
     "data": {
      "text/plain": [
       "array([[-0.2794155 ,  0.90929743,  0.84147098],\n",
       "       [ 0.84147098, -0.95892427,  0.98935825],\n",
       "       [ 0.84147098, -0.95892427,  0.41211849]])"
      ]
     },
     "metadata": {},
     "output_type": "display_data"
    }
   ],
   "source": [
    "np.sin(a)"
   ]
  }
 ],
 "metadata": {
  "kernelspec": {
   "display_name": "Python 3.9.12 ('base')",
   "language": "python",
   "name": "python3"
  },
  "language_info": {
   "codemirror_mode": {
    "name": "ipython",
    "version": 3
   },
   "file_extension": ".py",
   "mimetype": "text/x-python",
   "name": "python",
   "nbconvert_exporter": "python",
   "pygments_lexer": "ipython3",
   "version": "3.9.12"
  },
  "orig_nbformat": 4,
  "vscode": {
   "interpreter": {
    "hash": "19d1d53a962d236aa061289c2ac16dc8e6d9648c89fe79f459ae9a3493bc67b4"
   }
  }
 },
 "nbformat": 4,
 "nbformat_minor": 2
}
