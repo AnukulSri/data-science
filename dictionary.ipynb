{
 "cells": [
  {
   "cell_type": "markdown",
   "metadata": {},
   "source": [
    "* python dictionary is an ordered collection of items\n",
    "* each item of dictionary has a key and value\n",
    "* dictionary is mutable means value can be change after initializing "
   ]
  },
  {
   "cell_type": "code",
   "execution_count": 2,
   "metadata": {},
   "outputs": [
    {
     "name": "stdout",
     "output_type": "stream",
     "text": [
      "{1: 'apple', 2: 'ball'}\n"
     ]
    }
   ],
   "source": [
    "my_dict = {1:'apple', 2: 'ball'}\n",
    "print(my_dict) # here 1 is key and apple is value 8y4"
   ]
  },
  {
   "cell_type": "code",
   "execution_count": 6,
   "metadata": {},
   "outputs": [
    {
     "name": "stdout",
     "output_type": "stream",
     "text": [
      "{'name': 'jack', 'age': 26}\n",
      "jack\n",
      "26\n",
      "None\n"
     ]
    },
    {
     "ename": "KeyError",
     "evalue": "'address'",
     "output_type": "error",
     "traceback": [
      "\u001b[1;31m---------------------------------------------------------------------------\u001b[0m",
      "\u001b[1;31mKeyError\u001b[0m                                  Traceback (most recent call last)",
      "\u001b[1;32mc:\\Users\\Priyanshu\\Desktop\\Python Data Science\\dictionary.ipynb\\ Cell 3'\u001b[0m in \u001b[0;36m<cell line: 6>\u001b[1;34m()\u001b[0m\n\u001b[0;32m      <a href='vscode-notebook-cell:/c%3A/Users/Priyanshu/Desktop/Python%20Data%20Science/dictionary.ipynb/#ch0000002?line=3'>4</a>\u001b[0m \u001b[39mprint\u001b[39m(a_dit[\u001b[39m'\u001b[39m\u001b[39mage\u001b[39m\u001b[39m'\u001b[39m])\n\u001b[0;32m      <a href='vscode-notebook-cell:/c%3A/Users/Priyanshu/Desktop/Python%20Data%20Science/dictionary.ipynb/#ch0000002?line=4'>5</a>\u001b[0m \u001b[39mprint\u001b[39m(a_dit\u001b[39m.\u001b[39mget(\u001b[39m'\u001b[39m\u001b[39maddress\u001b[39m\u001b[39m'\u001b[39m)) \u001b[39m# this will print none because address is not defined\u001b[39;00m\n\u001b[1;32m----> <a href='vscode-notebook-cell:/c%3A/Users/Priyanshu/Desktop/Python%20Data%20Science/dictionary.ipynb/#ch0000002?line=5'>6</a>\u001b[0m \u001b[39mprint\u001b[39m(a_dit[\u001b[39m'\u001b[39;49m\u001b[39maddress\u001b[39;49m\u001b[39m'\u001b[39;49m])\n",
      "\u001b[1;31mKeyError\u001b[0m: 'address'"
     ]
    }
   ],
   "source": [
    "a_dit={'name':'jack','age':26}\n",
    "print(a_dit)\n",
    "print(a_dit['name'])\n",
    "print(a_dit['age'])\n",
    "print(a_dit.get('address')) # this will print none because address is not defined\n",
    "print(a_dit['address']) # this will show key error \n",
    " # Note if we know the key of dictionary then have auppose to use square brackets[] otherwise use get method "
   ]
  },
  {
   "cell_type": "code",
   "execution_count": 7,
   "metadata": {},
   "outputs": [
    {
     "name": "stdout",
     "output_type": "stream",
     "text": [
      "{'name': 'jack', 'age': 19, 'address': 'downtown'}\n"
     ]
    }
   ],
   "source": [
    "# here we are modifying the dictionary\n",
    "a_dit['age'] =19\n",
    "a_dit['address'] = 'downtown'\n",
    "print(a_dit)"
   ]
  },
  {
   "cell_type": "markdown",
   "metadata": {},
   "source": [
    "removing elements from dictionary"
   ]
  },
  {
   "cell_type": "code",
   "execution_count": 8,
   "metadata": {},
   "outputs": [
    {
     "name": "stdout",
     "output_type": "stream",
     "text": [
      "16\n",
      "(5, 25)\n"
     ]
    }
   ],
   "source": [
    "squares = {1:1,2:4,3:9,4:16,5:25}\n",
    "print(squares.pop(4)) # this will print the square of 4\n",
    "print(squares.popitem()) # this will print last item of a dictionary"
   ]
  },
  {
   "cell_type": "code",
   "execution_count": 10,
   "metadata": {},
   "outputs": [
    {
     "name": "stdout",
     "output_type": "stream",
     "text": [
      "{}\n"
     ]
    }
   ],
   "source": [
    "squares.clear() # it will clear the dictionary\n",
    "print(squares)"
   ]
  },
  {
   "cell_type": "code",
   "execution_count": 11,
   "metadata": {},
   "outputs": [],
   "source": [
    "del squares # del function is used to delete that specific variable from the memory"
   ]
  },
  {
   "cell_type": "markdown",
   "metadata": {},
   "source": [
    "# for loop in dictionary"
   ]
  },
  {
   "cell_type": "code",
   "execution_count": 14,
   "metadata": {},
   "outputs": [
    {
     "name": "stdout",
     "output_type": "stream",
     "text": [
      "1\n",
      "2\n",
      "3\n",
      "4\n",
      "5\n"
     ]
    }
   ],
   "source": [
    "squares2 = {1:1,2:4,3:9,4:16,5:25}\n",
    "for i in squares2: # this is used to print key value\n",
    "    print(i)\n"
   ]
  },
  {
   "cell_type": "code",
   "execution_count": 16,
   "metadata": {},
   "outputs": [
    {
     "name": "stdout",
     "output_type": "stream",
     "text": [
      "1\n",
      "4\n",
      "9\n",
      "16\n",
      "25\n"
     ]
    }
   ],
   "source": [
    "for j in squares2: # this is to print square value\n",
    "    print(squares2[j])"
   ]
  },
  {
   "cell_type": "code",
   "execution_count": 18,
   "metadata": {},
   "outputs": [
    {
     "name": "stdout",
     "output_type": "stream",
     "text": [
      "1 1\n",
      "2 4\n",
      "3 9\n",
      "4 16\n",
      "5 25\n"
     ]
    }
   ],
   "source": [
    "for k,v in squares2.items(): # this will print both key and value\n",
    "    print(k,v)"
   ]
  },
  {
   "cell_type": "markdown",
   "metadata": {},
   "source": [
    "create a dictionary for storing students report which contains students marks in different subject for five different students."
   ]
  },
  {
   "cell_type": "code",
   "execution_count": 24,
   "metadata": {},
   "outputs": [
    {
     "name": "stdout",
     "output_type": "stream",
     "text": [
      "{'jack': {'maths': 45, 'english': 67, 'computer': 80}, 'john': {'maths': 67, 'english': 47, 'computer': 66}, 'adam': {'maths': 65, 'english': 67, 'computer': 86}, 'james': {'maths': 85, 'english': 77, 'computer': 90}, 'josh': {'maths': 98, 'english': 87, 'computer': 81}}\n"
     ]
    }
   ],
   "source": [
    "stu_info ={\n",
    "'jack':{'maths':45,'english':67,'computer':80},\n",
    "'john':{'maths':67,'english':47,'computer':66},\n",
    "'adam':{'maths':65,'english':67,'computer':86},\n",
    "'james':{'maths':85,'english':77,'computer':90},\n",
    "'josh':{'maths':98,'english':87,'computer':81}\n",
    "}\n",
    "\n",
    "print(stu_info)"
   ]
  },
  {
   "cell_type": "code",
   "execution_count": 22,
   "metadata": {},
   "outputs": [
    {
     "data": {
      "text/plain": [
       "{'maths': 45, 'english': 67, 'computer': 80}"
      ]
     },
     "execution_count": 22,
     "metadata": {},
     "output_type": "execute_result"
    }
   ],
   "source": [
    "stu_info['jack'] # this will print jack data"
   ]
  },
  {
   "cell_type": "code",
   "execution_count": 25,
   "metadata": {},
   "outputs": [
    {
     "data": {
      "text/plain": [
       "66"
      ]
     },
     "execution_count": 25,
     "metadata": {},
     "output_type": "execute_result"
    }
   ],
   "source": [
    "stu_info['john']['computer'] # this will print john's computer marks"
   ]
  },
  {
   "cell_type": "code",
   "execution_count": 33,
   "metadata": {},
   "outputs": [
    {
     "name": "stdout",
     "output_type": "stream",
     "text": [
      "jack\n",
      "{'maths': 45, 'english': 67, 'computer': 80}\n",
      "{'maths': 45, 'english': 67, 'computer': 80}\n",
      "{'maths': 45, 'english': 67, 'computer': 80}\n",
      "------------\n",
      "john\n",
      "{'maths': 67, 'english': 47, 'computer': 66}\n",
      "{'maths': 67, 'english': 47, 'computer': 66}\n",
      "{'maths': 67, 'english': 47, 'computer': 66}\n",
      "------------\n",
      "adam\n",
      "{'maths': 65, 'english': 67, 'computer': 86}\n",
      "{'maths': 65, 'english': 67, 'computer': 86}\n",
      "{'maths': 65, 'english': 67, 'computer': 86}\n",
      "------------\n",
      "james\n",
      "{'maths': 85, 'english': 77, 'computer': 90}\n",
      "{'maths': 85, 'english': 77, 'computer': 90}\n",
      "{'maths': 85, 'english': 77, 'computer': 90}\n",
      "------------\n",
      "josh\n",
      "{'maths': 98, 'english': 87, 'computer': 81}\n",
      "{'maths': 98, 'english': 87, 'computer': 81}\n",
      "{'maths': 98, 'english': 87, 'computer': 81}\n",
      "------------\n"
     ]
    }
   ],
   "source": [
    "for name,marks in stu_info.items():\n",
    " print(name)\n",
    " for mark in marks.items(): \n",
    "    print(marks)\n",
    " print(\"------------\")"
   ]
  }
 ],
 "metadata": {
  "kernelspec": {
   "display_name": "Python 3.10.4 64-bit",
   "language": "python",
   "name": "python3"
  },
  "language_info": {
   "codemirror_mode": {
    "name": "ipython",
    "version": 3
   },
   "file_extension": ".py",
   "mimetype": "text/x-python",
   "name": "python",
   "nbconvert_exporter": "python",
   "pygments_lexer": "ipython3",
   "version": "3.10.4"
  },
  "orig_nbformat": 4,
  "vscode": {
   "interpreter": {
    "hash": "1016f5755579665f86c3ed5b4982a3342a4712a1c33c8f914fe8421ee05587a1"
   }
  }
 },
 "nbformat": 4,
 "nbformat_minor": 2
}
