{
 "cells": [
  {
   "cell_type": "markdown",
   "metadata": {},
   "source": [
    "# Enumerate"
   ]
  },
  {
   "cell_type": "markdown",
   "metadata": {},
   "source": [
    "It means counting. when we want data with its index then we use enumerate. "
   ]
  },
  {
   "cell_type": "code",
   "execution_count": 1,
   "metadata": {},
   "outputs": [
    {
     "name": "stdout",
     "output_type": "stream",
     "text": [
      "0 HTML\n",
      "1 CSS\n",
      "2 JavaScript\n",
      "3 Jquery\n",
      "4 ASP.Net\n"
     ]
    }
   ],
   "source": [
    "web = ['HTML','CSS',\"JavaScript\",'Jquery','ASP.Net']\n",
    "for i,a in enumerate (web):\n",
    "    print(i, a)\n"
   ]
  },
  {
   "cell_type": "markdown",
   "metadata": {},
   "source": [
    "# ZIP Function"
   ]
  },
  {
   "cell_type": "markdown",
   "metadata": {},
   "source": [
    "It is used to add 2 or more list in a single list."
   ]
  },
  {
   "cell_type": "code",
   "execution_count": 3,
   "metadata": {},
   "outputs": [
    {
     "name": "stdout",
     "output_type": "stream",
     "text": [
      "4 7 7 10 13 8 10 "
     ]
    }
   ],
   "source": [
    "x= [1,2,3,4,5,6,6]\n",
    "y= [2,3,1,2,3,1,2]\n",
    "z= [1,2,3,4,5,1,2]\n",
    "\n",
    "for i,j,k in zip (x,y,z): #in this the sum of 1 row element 2,3,4,..... is done and stored in another list\n",
    "    print(i+j+k,end=' ')"
   ]
  }
 ],
 "metadata": {
  "kernelspec": {
   "display_name": "Python 3.10.4 64-bit",
   "language": "python",
   "name": "python3"
  },
  "language_info": {
   "codemirror_mode": {
    "name": "ipython",
    "version": 3
   },
   "file_extension": ".py",
   "mimetype": "text/x-python",
   "name": "python",
   "nbconvert_exporter": "python",
   "pygments_lexer": "ipython3",
   "version": "3.10.4"
  },
  "orig_nbformat": 4,
  "vscode": {
   "interpreter": {
    "hash": "1016f5755579665f86c3ed5b4982a3342a4712a1c33c8f914fe8421ee05587a1"
   }
  }
 },
 "nbformat": 4,
 "nbformat_minor": 2
}
