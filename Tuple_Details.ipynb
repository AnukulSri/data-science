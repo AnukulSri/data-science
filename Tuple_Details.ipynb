{
 "cells": [
  {
   "cell_type": "code",
   "execution_count": 1,
   "metadata": {},
   "outputs": [
    {
     "name": "stdout",
     "output_type": "stream",
     "text": [
      "(1, 'hello', 3.4)\n"
     ]
    }
   ],
   "source": [
    "my_tuple = (1,'hello',3.4)\n",
    "print(my_tuple)"
   ]
  },
  {
   "cell_type": "code",
   "execution_count": 3,
   "metadata": {},
   "outputs": [
    {
     "name": "stdout",
     "output_type": "stream",
     "text": [
      "('mouse', [1, 2, 3], (1, 2, 3))\n"
     ]
    }
   ],
   "source": [
    "my_tuple=('mouse',[1,2,3],(1,2,3))\n",
    "print(my_tuple)"
   ]
  },
  {
   "cell_type": "markdown",
   "metadata": {},
   "source": [
    "tuples Indexing:"
   ]
  },
  {
   "cell_type": "code",
   "execution_count": 2,
   "metadata": {},
   "outputs": [
    {
     "name": "stdout",
     "output_type": "stream",
     "text": [
      "p\n",
      "q\n"
     ]
    }
   ],
   "source": [
    "my_tuple = ('p','q','r','s','t','u')\n",
    "print(my_tuple[0])\n",
    "print(my_tuple[1])"
   ]
  },
  {
   "cell_type": "markdown",
   "metadata": {},
   "source": [
    "nested tuple"
   ]
  },
  {
   "cell_type": "code",
   "execution_count": 1,
   "metadata": {},
   "outputs": [
    {
     "name": "stdout",
     "output_type": "stream",
     "text": [
      "s\n",
      "2\n"
     ]
    }
   ],
   "source": [
    "n_tuple= ('mouse',[1,2,3],(4,5,6))\n",
    "print(n_tuple[0][3]) # it means to pick 0 index element and then select its 3 index value. here mouse is at 0 index and at 3 index there is s\n",
    "print(n_tuple[1][1])"
   ]
  },
  {
   "cell_type": "markdown",
   "metadata": {},
   "source": [
    "Slicing in tuple:"
   ]
  },
  {
   "cell_type": "code",
   "execution_count": 6,
   "metadata": {},
   "outputs": [
    {
     "name": "stdout",
     "output_type": "stream",
     "text": [
      "['x', 'c', 'a']\n",
      "['e', 'x']\n",
      "['u', 'r']\n"
     ]
    }
   ],
   "source": [
    "m_tuple = ['e','x','c','a','l','i','b','u','r']\n",
    "print(m_tuple[1:4])# print element from 1nd index to 4th index\n",
    "print(m_tuple[:-7]) # print elements beginining to 2nd last index \n",
    "print(m_tuple[7:]) # print element 8th to end"
   ]
  },
  {
   "cell_type": "markdown",
   "metadata": {},
   "source": [
    "concatination of tuples:"
   ]
  },
  {
   "cell_type": "code",
   "execution_count": 8,
   "metadata": {},
   "outputs": [
    {
     "name": "stdout",
     "output_type": "stream",
     "text": [
      "(1, 2, 3, 4, 5, 6)\n"
     ]
    }
   ],
   "source": [
    "print((1,2,3)+(4,5,6))"
   ]
  },
  {
   "cell_type": "markdown",
   "metadata": {},
   "source": [
    "duplications of tuples data:"
   ]
  },
  {
   "cell_type": "code",
   "execution_count": 10,
   "metadata": {},
   "outputs": [
    {
     "name": "stdout",
     "output_type": "stream",
     "text": [
      "('hi', 'hi', 'hi')\n"
     ]
    }
   ],
   "source": [
    "print(('hi',)*3)"
   ]
  },
  {
   "cell_type": "markdown",
   "metadata": {},
   "source": [
    "count and index in tuples:"
   ]
  },
  {
   "cell_type": "code",
   "execution_count": 11,
   "metadata": {},
   "outputs": [
    {
     "name": "stdout",
     "output_type": "stream",
     "text": [
      "1\n",
      "3\n"
     ]
    }
   ],
   "source": [
    "yours_tuples = ('a','b','c','d','e')\n",
    "print(yours_tuples.count('a'))\n",
    "print(yours_tuples.index('d'))"
   ]
  },
  {
   "cell_type": "code",
   "execution_count": 12,
   "metadata": {},
   "outputs": [
    {
     "name": "stdout",
     "output_type": "stream",
     "text": [
      "(1, 23, 2, 45, 43) [1, 23, 2, 45, 43]\n"
     ]
    }
   ],
   "source": [
    "x= (1,23,2,45,43)\n",
    "x1 =list(x)\n",
    "print(x,x1) # it will print data in tuples and in list"
   ]
  },
  {
   "cell_type": "code",
   "execution_count": 13,
   "metadata": {},
   "outputs": [
    {
     "name": "stdout",
     "output_type": "stream",
     "text": [
      "(1, 23, 2, 45, 43) {1, 2, 43, 45, 23}\n"
     ]
    }
   ],
   "source": [
    "xs =set(x)\n",
    "print(x,xs) #it will print the data in tuple and in sets"
   ]
  }
 ],
 "metadata": {
  "kernelspec": {
   "display_name": "Python 3.10.4 64-bit",
   "language": "python",
   "name": "python3"
  },
  "language_info": {
   "codemirror_mode": {
    "name": "ipython",
    "version": 3
   },
   "file_extension": ".py",
   "mimetype": "text/x-python",
   "name": "python",
   "nbconvert_exporter": "python",
   "pygments_lexer": "ipython3",
   "version": "3.10.4"
  },
  "orig_nbformat": 4,
  "vscode": {
   "interpreter": {
    "hash": "1016f5755579665f86c3ed5b4982a3342a4712a1c33c8f914fe8421ee05587a1"
   }
  }
 },
 "nbformat": 4,
 "nbformat_minor": 2
}
