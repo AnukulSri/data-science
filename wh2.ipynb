{
 "cells": [
  {
   "cell_type": "code",
   "execution_count": 1,
   "metadata": {},
   "outputs": [
    {
     "name": "stdout",
     "output_type": "stream",
     "text": [
      "In 199 Seconds WhatsApp will open and after 15 Seconds Message will be Delivered!\n"
     ]
    }
   ],
   "source": [
    "import pywhatkit as kit\n",
    "\n",
    "kit.sendwhatmsg (\"+91**********\",\"hello Good Morning😊\",8,5)"
   ]
  },
  {
   "cell_type": "code",
   "execution_count": 2,
   "metadata": {},
   "outputs": [
    {
     "name": "stdout",
     "output_type": "stream",
     "text": [
      "In 72 Seconds WhatsApp will open and after 15 Seconds Message will be Delivered!\n"
     ]
    }
   ],
   "source": [
    "import pywhatkit as kit\n",
    "kit.sendwhatmsg(\"+91**********\",\"hlo\",19,25)#shubhanshu"
   ]
  },
  {
   "cell_type": "code",
   "execution_count": 4,
   "metadata": {},
   "outputs": [
    {
     "name": "stdout",
     "output_type": "stream",
     "text": [
      "In 54 Seconds WhatsApp will open and after 15 Seconds Message will be Delivered!\n"
     ]
    }
   ],
   "source": [
    "import pywhatkit as kit\n",
    "kit.sendwhatmsg(\"+91**********\",\"Hello\",8,15)# mummy"
   ]
  },
  {
   "cell_type": "markdown",
   "metadata": {},
   "source": [
    "**Converting text to handwritten text**"
   ]
  },
  {
   "cell_type": "code",
   "execution_count": 1,
   "metadata": {},
   "outputs": [
    {
     "ename": "UnableToAccessApi",
     "evalue": "Unable to access Pywhatkit api right now",
     "output_type": "error",
     "traceback": [
      "\u001b[1;31m---------------------------------------------------------------------------\u001b[0m",
      "\u001b[1;31mUnableToAccessApi\u001b[0m                         Traceback (most recent call last)",
      "\u001b[1;32mc:\\Users\\Priyanshu\\Desktop\\Python Data Science\\wh2.ipynb Cell 5\u001b[0m in \u001b[0;36m<cell line: 6>\u001b[1;34m()\u001b[0m\n\u001b[0;32m      <a href='vscode-notebook-cell:/c%3A/Users/Priyanshu/Desktop/Python%20Data%20Science/wh2.ipynb#ch0000004?line=0'>1</a>\u001b[0m \u001b[39mimport\u001b[39;00m \u001b[39mpywhatkit\u001b[39;00m \u001b[39mas\u001b[39;00m \u001b[39mkit\u001b[39;00m\n\u001b[0;32m      <a href='vscode-notebook-cell:/c%3A/Users/Priyanshu/Desktop/Python%20Data%20Science/wh2.ipynb#ch0000004?line=1'>2</a>\u001b[0m text \u001b[39m=\u001b[39m \u001b[39m'''\u001b[39m\u001b[39mPyWhatKit is a small library that can be used to perform several tasks like playing \u001b[39m\n\u001b[0;32m      <a href='vscode-notebook-cell:/c%3A/Users/Priyanshu/Desktop/Python%20Data%20Science/wh2.ipynb#ch0000004?line=2'>3</a>\u001b[0m \u001b[39mYouTube videos, sending WhatsApp messages, finding information about a topic, and \u001b[39m\n\u001b[0;32m      <a href='vscode-notebook-cell:/c%3A/Users/Priyanshu/Desktop/Python%20Data%20Science/wh2.ipynb#ch0000004?line=3'>4</a>\u001b[0m \u001b[39mmuch more. \u001b[39m\u001b[39m'''\u001b[39m\n\u001b[1;32m----> <a href='vscode-notebook-cell:/c%3A/Users/Priyanshu/Desktop/Python%20Data%20Science/wh2.ipynb#ch0000004?line=5'>6</a>\u001b[0m kit\u001b[39m.\u001b[39;49mtext_to_handwriting(text,\u001b[39m'\u001b[39;49m\u001b[39mconverted.png\u001b[39;49m\u001b[39m'\u001b[39;49m)\n",
      "File \u001b[1;32m~\\AppData\\Roaming\\Python\\Python39\\site-packages\\pywhatkit\\handwriting.py:22\u001b[0m, in \u001b[0;36mtext_to_handwriting\u001b[1;34m(string, save_to, rgb)\u001b[0m\n\u001b[0;32m     20\u001b[0m         file\u001b[39m.\u001b[39mclose()\n\u001b[0;32m     21\u001b[0m \u001b[39melif\u001b[39;00m \u001b[39m400\u001b[39m \u001b[39m<\u001b[39m\u001b[39m=\u001b[39m status_code \u001b[39m<\u001b[39m\u001b[39m=\u001b[39m \u001b[39m599\u001b[39m:\n\u001b[1;32m---> 22\u001b[0m     \u001b[39mraise\u001b[39;00m exceptions\u001b[39m.\u001b[39mUnableToAccessApi(\u001b[39m\"\u001b[39m\u001b[39mUnable to access Pywhatkit api right now\u001b[39m\u001b[39m\"\u001b[39m)\n",
      "\u001b[1;31mUnableToAccessApi\u001b[0m: Unable to access Pywhatkit api right now"
     ]
    }
   ],
   "source": [
    "import pywhatkit as kit\n",
    "text = '''PyWhatKit is a small library that can be used to perform several tasks like playing \n",
    "YouTube videos, sending WhatsApp messages, finding information about a topic, and \n",
    "much more. '''\n",
    "\n",
    "kit.text_to_handwriting(text,'converted.png')\n"
   ]
  },
  {
   "cell_type": "code",
   "execution_count": null,
   "metadata": {},
   "outputs": [],
   "source": []
  }
 ],
 "metadata": {
  "kernelspec": {
   "display_name": "Python 3.9.12 ('base')",
   "language": "python",
   "name": "python3"
  },
  "language_info": {
   "codemirror_mode": {
    "name": "ipython",
    "version": 3
   },
   "file_extension": ".py",
   "mimetype": "text/x-python",
   "name": "python",
   "nbconvert_exporter": "python",
   "pygments_lexer": "ipython3",
   "version": "3.9.12"
  },
  "orig_nbformat": 4,
  "vscode": {
   "interpreter": {
    "hash": "19d1d53a962d236aa061289c2ac16dc8e6d9648c89fe79f459ae9a3493bc67b4"
   }
  }
 },
 "nbformat": 4,
 "nbformat_minor": 2
}
