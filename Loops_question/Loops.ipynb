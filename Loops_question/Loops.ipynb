{
 "cells": [
  {
   "cell_type": "markdown",
   "metadata": {},
   "source": [
    "# Loops"
   ]
  },
  {
   "cell_type": "markdown",
   "metadata": {},
   "source": [
    "Loops are used to execute a block of code repeteadly\n",
    "There are basically two types of loops : \n",
    "\n",
    "i) for\n",
    "ii) while"
   ]
  },
  {
   "cell_type": "markdown",
   "metadata": {},
   "source": [
    "# for loop"
   ]
  },
  {
   "cell_type": "code",
   "execution_count": 1,
   "metadata": {},
   "outputs": [
    {
     "name": "stdout",
     "output_type": "stream",
     "text": [
      "P\n",
      "Y\n",
      "T\n",
      "H\n",
      "O\n",
      "N\n"
     ]
    }
   ],
   "source": [
    "x= 'PYTHON'\n",
    "for i in x : \n",
    "    print (i)"
   ]
  },
  {
   "cell_type": "code",
   "execution_count": 2,
   "metadata": {},
   "outputs": [
    {
     "name": "stdout",
     "output_type": "stream",
     "text": [
      "p\n",
      "y\n",
      "t\n",
      "h\n",
      "o\n",
      "n\n",
      " \n",
      "l\n",
      "e\n",
      "a\n",
      "r\n",
      "n\n",
      "i\n",
      "n\n",
      "g\n"
     ]
    }
   ],
   "source": [
    "word =\"python learning\"\n",
    "for i in word:\n",
    "    print(i)"
   ]
  },
  {
   "cell_type": "code",
   "execution_count": 3,
   "metadata": {},
   "outputs": [
    {
     "name": "stdout",
     "output_type": "stream",
     "text": [
      "i have Mango\n",
      "i have Banana\n",
      "i have Papaya\n",
      "i have Apple\n"
     ]
    }
   ],
   "source": [
    "fruits = ['Mango','Banana','Papaya','Apple']\n",
    "for items in fruits :\n",
    "    print(f'i have {items}')"
   ]
  },
  {
   "cell_type": "markdown",
   "metadata": {},
   "source": [
    "# While loop"
   ]
  },
  {
   "cell_type": "markdown",
   "metadata": {},
   "source": [
    "It is used to iterate over a block of code as long as the test is true.\n",
    "\n",
    "Syntax : \n",
    "\n",
    "initialization \n",
    "while condition :\n",
    "  statement \n",
    "  increment or decrement"
   ]
  },
  {
   "cell_type": "code",
   "execution_count": 4,
   "metadata": {},
   "outputs": [
    {
     "name": "stdout",
     "output_type": "stream",
     "text": [
      "1\n",
      "2\n",
      "3\n",
      "4\n",
      "5\n"
     ]
    }
   ],
   "source": [
    "x= 1\n",
    "while x < 6:\n",
    "    print (x)\n",
    "    x+=1"
   ]
  },
  {
   "cell_type": "code",
   "execution_count": 5,
   "metadata": {},
   "outputs": [
    {
     "name": "stdout",
     "output_type": "stream",
     "text": [
      "You continued running loop\n",
      "You continued running loop\n",
      "You continued running loop\n",
      "You continued running loop\n",
      "You continued running loop\n",
      "You continued running loop\n"
     ]
    }
   ],
   "source": [
    "while input ('continue?') =='y' : # it means that util user enter y till that  program will run if anything else is entered prog. will exit\n",
    "    print (\"You continued running loop\")"
   ]
  }
 ],
 "metadata": {
  "interpreter": {
   "hash": "1016f5755579665f86c3ed5b4982a3342a4712a1c33c8f914fe8421ee05587a1"
  },
  "kernelspec": {
   "display_name": "Python 3.10.4 64-bit",
   "language": "python",
   "name": "python3"
  },
  "language_info": {
   "codemirror_mode": {
    "name": "ipython",
    "version": 3
   },
   "file_extension": ".py",
   "mimetype": "text/x-python",
   "name": "python",
   "nbconvert_exporter": "python",
   "pygments_lexer": "ipython3",
   "version": "3.10.4"
  },
  "orig_nbformat": 4
 },
 "nbformat": 4,
 "nbformat_minor": 2
}
